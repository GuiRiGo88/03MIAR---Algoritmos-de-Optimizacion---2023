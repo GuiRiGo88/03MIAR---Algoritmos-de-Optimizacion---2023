{
  "nbformat": 4,
  "nbformat_minor": 0,
  "metadata": {
    "colab": {
      "provenance": []
    },
    "kernelspec": {
      "name": "python3",
      "display_name": "Python 3"
    },
    "language_info": {
      "name": "python"
    }
  },
  "cells": [
    {
      "cell_type": "markdown",
      "source": [
        "Guillermo Rios Gómez: https://colab.research.google.com/drive/1o2hXZStq1Fj_SdbR6cYrcgxXi6buKJXG?usp=sharing\n",
        "Github: https://github.com/GuiRiGo88/03MIAR---Algoritmos-de-Optimizacion---2023.git"
      ],
      "metadata": {
        "id": "LgR3okxw184w"
      }
    },
    {
      "cell_type": "code",
      "execution_count": null,
      "metadata": {
        "colab": {
          "base_uri": "https://localhost:8080/"
        },
        "id": "APddexUC1aVd",
        "outputId": "d06eb9ae-c345-4271-b6b2-2eb6e675a3ae"
      },
      "outputs": [
        {
          "output_type": "stream",
          "name": "stdout",
          "text": [
            "Lleva la ficha desde 1 hasta 3\n",
            "Lleva la ficha desde 1 hasta 2\n",
            "Lleva la ficha desde 3 hasta 2\n",
            "Lleva la ficha desde 1 hasta 3\n",
            "Lleva la ficha desde 2 hasta 1\n",
            "Lleva la ficha desde 2 hasta 3\n",
            "Lleva la ficha desde 1 hasta 3\n"
          ]
        }
      ],
      "source": [
        "#Torres de Hanoi - Divide y venceras\n",
        "\n",
        "def Torres_Hanoi(N, desde, hasta):\n",
        "  \"\"\"\n",
        "  Esta función resuelve el problema de las Torres de Hanoi utilizando recursividad.\n",
        "  N - Nº de fichas\n",
        "  desde - torre inicial\n",
        "  hasta - torre final\n",
        "  \"\"\"\n",
        "  if N==1 :\n",
        "    print(f\"Lleva la ficha desde {desde} hasta {hasta}\")\n",
        "  else:\n",
        "    Torres_Hanoi(N-1, desde, 6-desde-hasta)\n",
        "    print(f\"Lleva la ficha desde {desde} hasta {hasta}\")\n",
        "    Torres_Hanoi(N-1, 6-desde-hasta, hasta)\n",
        "\n",
        "Torres_Hanoi(3, 1, 3)\n"
      ]
    },
    {
      "cell_type": "code",
      "source": [
        "#Cambio de monedas - Técnica voraz\n",
        "\n",
        "SISTEMA = [12, 5 ,2, 1]\n",
        "\n",
        "def cambio_monedas(CANTIDAD, SISTEMA):\n",
        "  \"\"\"\n",
        "  Esta función resuelve el problema de cambio de monedas utilizando la técnica voraz.\n",
        "  CANTIDAD - La cantidad de dinero que queremos cambiar.\n",
        "  SISTEMA - El sistema de monedas disponible.\n",
        "  \"\"\"\n",
        "  SOLUCION = [0]*len(SISTEMA)\n",
        "  ValorAcumulado = 0\n",
        "\n",
        "  for i, valor in enumerate(SISTEMA):\n",
        "    monedas = (CANTIDAD - ValorAcumulado) // valor\n",
        "    SOLUCION[i] = monedas\n",
        "    ValorAcumulado = ValorAcumulado + monedas * valor\n",
        "\n",
        "    if CANTIDAD == ValorAcumulado:\n",
        "      return SOLUCION\n",
        "\n",
        "  raise ValueError(\"No es posible encontrar solucion\")\n",
        "\n",
        "try:\n",
        "  print(cambio_monedas(15, SISTEMA))\n",
        "except ValueError as e:\n",
        "  print(e)\n"
      ],
      "metadata": {
        "colab": {
          "base_uri": "https://localhost:8080/"
        },
        "id": "cp7FhLS87rdE",
        "outputId": "1947ce42-9bec-4a09-ec98-1c2a08533a6f"
      },
      "execution_count": null,
      "outputs": [
        {
          "output_type": "stream",
          "name": "stdout",
          "text": [
            "[1, 0, 1, 1]\n"
          ]
        }
      ]
    },
    {
      "cell_type": "code",
      "source": [
        "#N Reinas - Vuelta Atrás()\n",
        "\n",
        "#Verifica que en la solución parcial no hay amenzas entre reinas\n",
        "\n",
        "def es_prometedora(SOLUCION,etapa):\n",
        "  '''print(SOLUCION)\n",
        "     Si la solución tiene dos valores iguales no es valida =>\n",
        "     Dos reinas en la misma fila'''\n",
        "  for i in range(etapa+1):\n",
        "    #print(\"El valor \" + str(SOLUCION[i]) + \" está \" +  str(SOLUCION.count(SOLUCION[i])) + \" veces\")\n",
        "    if SOLUCION.count(SOLUCION[i]) > 1:\n",
        "      return False\n",
        "\n",
        "    #Verifica las diagonales\n",
        "    for j in range(i+1, etapa +1 ):\n",
        "      #print(\"Comprobando diagonal de \" + str(i) + \" y \" + str(j))\n",
        "      if abs(i-j) == abs(SOLUCION[i]-SOLUCION[j]) : return False\n",
        "  return True\n",
        "\n",
        "#Traduce la solución al tablero\n",
        "\n",
        "def escribe_solucion(S):\n",
        "  n = len(S)\n",
        "  for x in range(n):\n",
        "    print(\"\")\n",
        "    for i in range(n):\n",
        "      if S[i] == x+1:\n",
        "        print(\" X \" , end=\"\")\n",
        "      else:\n",
        "        print(\" - \", end=\"\")\n",
        "\n",
        "\n",
        "\n",
        "#Proceso principal de N-Reinas\n",
        "\n",
        "def reinas(N, solucion=[],etapa=0):\n",
        "  if len(solucion) == 0:         # [0,0,0...]\n",
        "    solucion = [0 for i in range(N) ]\n",
        "\n",
        "  for i in range(1, N+1):\n",
        "    solucion[etapa] = i\n",
        "    if es_prometedora(solucion, etapa):\n",
        "      if etapa == N-1:\n",
        "        print(solucion)\n",
        "      else:\n",
        "        reinas(N, solucion, etapa+1)\n",
        "    else:\n",
        "      None\n",
        "\n",
        "  solucion[etapa] = 0\n",
        "\n",
        "reinas(8,solucion=[],etapa=0)"
      ],
      "metadata": {
        "colab": {
          "base_uri": "https://localhost:8080/"
        },
        "id": "I0-imtoB9PXj",
        "outputId": "84275da5-b8b1-4ac4-a641-ed921a06ebab"
      },
      "execution_count": null,
      "outputs": [
        {
          "output_type": "stream",
          "name": "stdout",
          "text": [
            "[1, 5, 8, 6, 3, 7, 2, 4]\n",
            "[1, 6, 8, 3, 7, 4, 2, 5]\n",
            "[1, 7, 4, 6, 8, 2, 5, 3]\n",
            "[1, 7, 5, 8, 2, 4, 6, 3]\n",
            "[2, 4, 6, 8, 3, 1, 7, 5]\n",
            "[2, 5, 7, 1, 3, 8, 6, 4]\n",
            "[2, 5, 7, 4, 1, 8, 6, 3]\n",
            "[2, 6, 1, 7, 4, 8, 3, 5]\n",
            "[2, 6, 8, 3, 1, 4, 7, 5]\n",
            "[2, 7, 3, 6, 8, 5, 1, 4]\n",
            "[2, 7, 5, 8, 1, 4, 6, 3]\n",
            "[2, 8, 6, 1, 3, 5, 7, 4]\n",
            "[3, 1, 7, 5, 8, 2, 4, 6]\n",
            "[3, 5, 2, 8, 1, 7, 4, 6]\n",
            "[3, 5, 2, 8, 6, 4, 7, 1]\n",
            "[3, 5, 7, 1, 4, 2, 8, 6]\n",
            "[3, 5, 8, 4, 1, 7, 2, 6]\n",
            "[3, 6, 2, 5, 8, 1, 7, 4]\n",
            "[3, 6, 2, 7, 1, 4, 8, 5]\n",
            "[3, 6, 2, 7, 5, 1, 8, 4]\n",
            "[3, 6, 4, 1, 8, 5, 7, 2]\n",
            "[3, 6, 4, 2, 8, 5, 7, 1]\n",
            "[3, 6, 8, 1, 4, 7, 5, 2]\n",
            "[3, 6, 8, 1, 5, 7, 2, 4]\n",
            "[3, 6, 8, 2, 4, 1, 7, 5]\n",
            "[3, 7, 2, 8, 5, 1, 4, 6]\n",
            "[3, 7, 2, 8, 6, 4, 1, 5]\n",
            "[3, 8, 4, 7, 1, 6, 2, 5]\n",
            "[4, 1, 5, 8, 2, 7, 3, 6]\n",
            "[4, 1, 5, 8, 6, 3, 7, 2]\n",
            "[4, 2, 5, 8, 6, 1, 3, 7]\n",
            "[4, 2, 7, 3, 6, 8, 1, 5]\n",
            "[4, 2, 7, 3, 6, 8, 5, 1]\n",
            "[4, 2, 7, 5, 1, 8, 6, 3]\n",
            "[4, 2, 8, 5, 7, 1, 3, 6]\n",
            "[4, 2, 8, 6, 1, 3, 5, 7]\n",
            "[4, 6, 1, 5, 2, 8, 3, 7]\n",
            "[4, 6, 8, 2, 7, 1, 3, 5]\n",
            "[4, 6, 8, 3, 1, 7, 5, 2]\n",
            "[4, 7, 1, 8, 5, 2, 6, 3]\n",
            "[4, 7, 3, 8, 2, 5, 1, 6]\n",
            "[4, 7, 5, 2, 6, 1, 3, 8]\n",
            "[4, 7, 5, 3, 1, 6, 8, 2]\n",
            "[4, 8, 1, 3, 6, 2, 7, 5]\n",
            "[4, 8, 1, 5, 7, 2, 6, 3]\n",
            "[4, 8, 5, 3, 1, 7, 2, 6]\n",
            "[5, 1, 4, 6, 8, 2, 7, 3]\n",
            "[5, 1, 8, 4, 2, 7, 3, 6]\n",
            "[5, 1, 8, 6, 3, 7, 2, 4]\n",
            "[5, 2, 4, 6, 8, 3, 1, 7]\n",
            "[5, 2, 4, 7, 3, 8, 6, 1]\n",
            "[5, 2, 6, 1, 7, 4, 8, 3]\n",
            "[5, 2, 8, 1, 4, 7, 3, 6]\n",
            "[5, 3, 1, 6, 8, 2, 4, 7]\n",
            "[5, 3, 1, 7, 2, 8, 6, 4]\n",
            "[5, 3, 8, 4, 7, 1, 6, 2]\n",
            "[5, 7, 1, 3, 8, 6, 4, 2]\n",
            "[5, 7, 1, 4, 2, 8, 6, 3]\n",
            "[5, 7, 2, 4, 8, 1, 3, 6]\n",
            "[5, 7, 2, 6, 3, 1, 4, 8]\n",
            "[5, 7, 2, 6, 3, 1, 8, 4]\n",
            "[5, 7, 4, 1, 3, 8, 6, 2]\n",
            "[5, 8, 4, 1, 3, 6, 2, 7]\n",
            "[5, 8, 4, 1, 7, 2, 6, 3]\n",
            "[6, 1, 5, 2, 8, 3, 7, 4]\n",
            "[6, 2, 7, 1, 3, 5, 8, 4]\n",
            "[6, 2, 7, 1, 4, 8, 5, 3]\n",
            "[6, 3, 1, 7, 5, 8, 2, 4]\n",
            "[6, 3, 1, 8, 4, 2, 7, 5]\n",
            "[6, 3, 1, 8, 5, 2, 4, 7]\n",
            "[6, 3, 5, 7, 1, 4, 2, 8]\n",
            "[6, 3, 5, 8, 1, 4, 2, 7]\n",
            "[6, 3, 7, 2, 4, 8, 1, 5]\n",
            "[6, 3, 7, 2, 8, 5, 1, 4]\n",
            "[6, 3, 7, 4, 1, 8, 2, 5]\n",
            "[6, 4, 1, 5, 8, 2, 7, 3]\n",
            "[6, 4, 2, 8, 5, 7, 1, 3]\n",
            "[6, 4, 7, 1, 3, 5, 2, 8]\n",
            "[6, 4, 7, 1, 8, 2, 5, 3]\n",
            "[6, 8, 2, 4, 1, 7, 5, 3]\n",
            "[7, 1, 3, 8, 6, 4, 2, 5]\n",
            "[7, 2, 4, 1, 8, 5, 3, 6]\n",
            "[7, 2, 6, 3, 1, 4, 8, 5]\n",
            "[7, 3, 1, 6, 8, 5, 2, 4]\n",
            "[7, 3, 8, 2, 5, 1, 6, 4]\n",
            "[7, 4, 2, 5, 8, 1, 3, 6]\n",
            "[7, 4, 2, 8, 6, 1, 3, 5]\n",
            "[7, 5, 3, 1, 6, 8, 2, 4]\n",
            "[8, 2, 4, 1, 7, 5, 3, 6]\n",
            "[8, 2, 5, 3, 1, 7, 4, 6]\n",
            "[8, 3, 1, 6, 2, 5, 7, 4]\n",
            "[8, 4, 1, 3, 6, 2, 7, 5]\n"
          ]
        }
      ]
    },
    {
      "cell_type": "code",
      "source": [
        "escribe_solucion([5, 7, 1, 4, 2, 8, 6, 3])"
      ],
      "metadata": {
        "colab": {
          "base_uri": "https://localhost:8080/"
        },
        "id": "1LyZFwJG-Mr2",
        "outputId": "b7fae23a-b0da-427d-a8ce-62e77494ebb8"
      },
      "execution_count": null,
      "outputs": [
        {
          "output_type": "stream",
          "name": "stdout",
          "text": [
            "\n",
            " -  -  X  -  -  -  -  - \n",
            " -  -  -  -  X  -  -  - \n",
            " -  -  -  -  -  -  -  X \n",
            " -  -  -  X  -  -  -  - \n",
            " X  -  -  -  -  -  -  - \n",
            " -  -  -  -  -  -  X  - \n",
            " -  X  -  -  -  -  -  - \n",
            " -  -  -  -  -  X  -  - "
          ]
        }
      ]
    },
    {
      "cell_type": "code",
      "source": [
        "#Viaje por el rio - Programación dinámica\n",
        "\n",
        "TARIFAS = [\n",
        "[0,5,4,3,999,999,999],\n",
        "[999,0,999,2,3,999,11],\n",
        "[999,999, 0,1,999,4,10],\n",
        "[999,999,999, 0,5,6,9],\n",
        "[999,999, 999,999,0,999,4],\n",
        "[999,999, 999,999,999,0,3],\n",
        "[999,999,999,999,999,999,0]\n",
        "]\n",
        "\n",
        "#999 se puede sustituir por float(\"inf\")\n",
        "#Calculo de la matriz de PRECIOS y RUTAS\n",
        "\n",
        "def Precios(TARIFAS):\n",
        "  #Total de Nodos\n",
        "  N = len(TARIFAS[0])\n",
        "\n",
        "  #Inicialización de la tabla de precios\n",
        "  PRECIOS = [ [9999]*N for i in [9999]*N]\n",
        "  RUTA = [ [\"\"]*N for i in [\"\"]*N]\n",
        "\n",
        "  for i in range(0,N-1):\n",
        "    RUTA[i][i] = i             #Para ir de i a i se \"pasa por i\"\n",
        "    PRECIOS[i][i] = 0          #Para ir de i a i se se paga 0\n",
        "    for j in range(i+1, N):\n",
        "      MIN = TARIFAS[i][j]\n",
        "      RUTA[i][j] = i\n",
        "\n",
        "      for k in range(i, j):\n",
        "        if PRECIOS[i][k] + TARIFAS[k][j] < MIN:\n",
        "            MIN = min(MIN, PRECIOS[i][k] + TARIFAS[k][j] )\n",
        "            RUTA[i][j] = k          #Anota que para ir de i a j hay que pasar por k\n",
        "        PRECIOS[i][j] = MIN\n",
        "\n",
        "  return PRECIOS,RUTA\n",
        "\n",
        "PRECIOS,RUTA = Precios(TARIFAS)\n",
        "#print(PRECIOS[0][6])\n",
        "\n",
        "print(\"PRECIOS\")\n",
        "for i in range(len(TARIFAS)):\n",
        "  print(PRECIOS[i])\n",
        "\n",
        "print(\"\\nRUTA\")\n",
        "for i in range(len(TARIFAS)):\n",
        "  print(RUTA[i])\n",
        "\n",
        "#Determinar la ruta con Recursividad\n",
        "def calcular_ruta(RUTA, desde, hasta):\n",
        "  if desde == hasta:\n",
        "    #print(\"Ir a :\" + str(desde))\n",
        "    return \"\"\n",
        "  else:\n",
        "    return str(calcular_ruta( RUTA, desde, RUTA[desde][hasta])) +  \\\n",
        "                ',' + \\\n",
        "                str(RUTA[desde][hasta] \\\n",
        "              )\n",
        "\n",
        "print(\"\\nLa ruta es:\")\n",
        "calcular_ruta(RUTA, 0,6)"
      ],
      "metadata": {
        "colab": {
          "base_uri": "https://localhost:8080/",
          "height": 375
        },
        "id": "rW02oaBj-yY6",
        "outputId": "c20050bb-116a-44e4-b98d-5c07c01a0bb8"
      },
      "execution_count": null,
      "outputs": [
        {
          "output_type": "stream",
          "name": "stdout",
          "text": [
            "PRECIOS\n",
            "[0, 5, 4, 3, 8, 8, 11]\n",
            "[9999, 0, 999, 2, 3, 8, 7]\n",
            "[9999, 9999, 0, 1, 6, 4, 7]\n",
            "[9999, 9999, 9999, 0, 5, 6, 9]\n",
            "[9999, 9999, 9999, 9999, 0, 999, 4]\n",
            "[9999, 9999, 9999, 9999, 9999, 0, 3]\n",
            "[9999, 9999, 9999, 9999, 9999, 9999, 9999]\n",
            "\n",
            "RUTA\n",
            "[0, 0, 0, 0, 1, 2, 5]\n",
            "['', 1, 1, 1, 1, 3, 4]\n",
            "['', '', 2, 2, 3, 2, 5]\n",
            "['', '', '', 3, 3, 3, 3]\n",
            "['', '', '', '', 4, 4, 4]\n",
            "['', '', '', '', '', 5, 5]\n",
            "['', '', '', '', '', '', '']\n",
            "\n",
            "La ruta es:\n"
          ]
        },
        {
          "output_type": "execute_result",
          "data": {
            "text/plain": [
              "',0,2,5'"
            ],
            "application/vnd.google.colaboratory.intrinsic+json": {
              "type": "string"
            }
          },
          "metadata": {},
          "execution_count": 8
        }
      ]
    },
    {
      "cell_type": "markdown",
      "source": [
        "# Problema: Encontrar los dos puntos más cercanos\n",
        "\n",
        " Dado un conjunto de puntos se trata de encontrar los dos puntos más cercanos\n",
        "\n",
        " # FUERZA BRUTA"
      ],
      "metadata": {
        "id": "NQSxDmwXLgYc"
      }
    },
    {
      "cell_type": "code",
      "source": [
        "import random\n",
        "import math\n",
        "import time\n",
        "\n",
        "# Generamos la lista de 1000 números aleatorios\n",
        "LISTA_1D = [random.randrange(1, 1000) for x in range(1000)]\n",
        "\n",
        "def dist_cercanos(lista):\n",
        "    dist_min = math.inf  # Inicializamos con infinito\n",
        "    punt_cerc = None\n",
        "\n",
        "    # Comparamos cada par de puntos en la lista\n",
        "    for i in range(len(lista)):\n",
        "        for j in range(i + 1, len(lista)):\n",
        "            distancia1 = abs(lista[i] - lista[j])\n",
        "            if distancia1 < dist_min:\n",
        "                dist_min = distancia1\n",
        "                punt_cerc = (lista[i], lista[j])\n",
        "\n",
        "    return punt_cerc, dist_min\n",
        "\n",
        "# Medimos el tiempo de inicio\n",
        "inicio = time.time()\n",
        "\n",
        "# Llamamos a la función y mostramos el resultado\n",
        "puntos, distancia1 = dist_cercanos(LISTA_1D)\n",
        "\n",
        "# Medimos el tiempo de finalización\n",
        "final = time.time()\n",
        "\n",
        "# Calculamos la duración\n",
        "duracion = final - inicio\n",
        "\n",
        "print(f\"Los dos puntos más cercanos son: {puntos} con una distancia de {distancia1}\")\n",
        "print(f\"Tiempo de ejecución: {duracion} segundos\")"
      ],
      "metadata": {
        "colab": {
          "base_uri": "https://localhost:8080/",
          "height": 0
        },
        "id": "smXnXEakLmsM",
        "outputId": "1a1e967c-8522-4d27-f2a8-5b99b7bfceb3"
      },
      "execution_count": 1,
      "outputs": [
        {
          "output_type": "stream",
          "name": "stdout",
          "text": [
            "Los dos puntos más cercanos son: (558, 558) con una distancia de 0\n",
            "Tiempo de ejecución: 0.16610503196716309 segundos\n"
          ]
        }
      ]
    },
    {
      "cell_type": "markdown",
      "source": [
        "- Calcular la complejidad. ¿Se puede mejorar? El algoritmo tiene una complejidad de tiempo de O(n^2).\n",
        "Esto se debe a que hay dos bucles anidados que comparan cada\n",
        "elemento de la lista LISTA_1D con todos los demás elementos. Si se puede mejorar aplicando otras técnicas\n",
        "de optimización"
      ],
      "metadata": {
        "id": "Mgc8MONOU9jp"
      }
    },
    {
      "cell_type": "markdown",
      "source": [
        "# Segundo intento. Aplicar Divide y Vencerás"
      ],
      "metadata": {
        "id": "ldTFNplhVHxg"
      }
    },
    {
      "cell_type": "code",
      "source": [
        "\n",
        "def cercanos(lista):\n",
        "    # Ordenamos la lista\n",
        "    ordenada = sorted(lista)\n",
        "\n",
        "    # Función recursiva para encontrar la distancia mínima\n",
        "    def dist_min_recur(inicio, fin):\n",
        "        # Si hay 2 o 3 puntos, se resuelve directamente\n",
        "        if fin - inicio <= 3:\n",
        "            return min(abs(ordenada[i] - ordenada[j])\n",
        "                       for i in range(inicio, fin)\n",
        "                       for j in range(i + 1, fin + 1))\n",
        "\n",
        "        # Dividimos la lista en dos mitades\n",
        "        mitad = (inicio + fin) // 2\n",
        "        punto_medio = ordenada[mitad]\n",
        "\n",
        "        # Encontramos la distancia mínima en ambas mitades\n",
        "        dist_izq = dist_min_recur(inicio, mitad)\n",
        "        dist_der = dist_min_recur(mitad + 1, fin)\n",
        "\n",
        "        # Encontramos la distancia mínima entre las dos mitades\n",
        "        dist_min = min(dist_izq, dist_der)\n",
        "\n",
        "        # Consideramos los puntos cercanos al punto medio\n",
        "        puntos_cercanos = [p for p in ordenada[inicio:fin + 1]\n",
        "                           if abs(p - punto_medio) < dist_min]\n",
        "\n",
        "        # Encontramos la distancia mínima entre los puntos cercanos\n",
        "        dist_min_cercanos = min((abs(puntos_cercanos[i] - puntos_cercanos[j])\n",
        "                                 for i in range(len(puntos_cercanos))\n",
        "                                 for j in range(i + 1, len(puntos_cercanos))),\n",
        "                                default=dist_min)\n",
        "\n",
        "        return min(dist_min, dist_min_cercanos)\n",
        "\n",
        "    return dist_min_recur(0, len(ordenada) - 1)\n",
        "\n",
        "# Medimos el tiempo de inicio\n",
        "inicio = time.time()\n",
        "\n",
        "# Llamamos a la función y mostramos el resultado\n",
        "distancia = cercanos(LISTA_1D)\n",
        "\n",
        "# Medimos el tiempo de finalización\n",
        "final = time.time()\n",
        "\n",
        "# Calculamos la duración\n",
        "duracion = final - inicio\n",
        "\n",
        "print(f\"La distancia más corta entre dos puntos es: {distancia}\")\n",
        "print(f\"Tiempo de ejecución: {duracion} segundos\")"
      ],
      "metadata": {
        "colab": {
          "base_uri": "https://localhost:8080/",
          "height": 0
        },
        "id": "Iz7yESxIU4HU",
        "outputId": "4fcf1da0-32f6-4373-a17c-290a4b7feecd"
      },
      "execution_count": 2,
      "outputs": [
        {
          "output_type": "stream",
          "name": "stdout",
          "text": [
            "La distancia más corta entre dos puntos es: 0\n",
            "Tiempo de ejecución: 0.009646892547607422 segundos\n"
          ]
        }
      ]
    },
    {
      "cell_type": "markdown",
      "source": [
        "- Calcular la complejidad. ¿Se puede mejorar? La complejidad de tiempo de este algoritmo es O(n log n), lo que lo hace mucho más eficiente que el enfoque de fuerza bruta para listas grandes"
      ],
      "metadata": {
        "id": "HKfb0RYPVSiD"
      }
    },
    {
      "cell_type": "markdown",
      "source": [
        "# Extender el algoritmo a 2D:"
      ],
      "metadata": {
        "id": "VVIZne0tVacg"
      }
    },
    {
      "cell_type": "code",
      "source": [
        "# Generamos una lista de 1000 puntos aleatorios en 2D\n",
        "LISTA_2D = [(random.randrange(1, 1000), random.randrange(1, 1000)) for _ in range(1000)]\n",
        "\n",
        "def distancia_euclidiana(punto1, punto2):\n",
        "    return math.sqrt((punto1[0] - punto2[0])**2 + (punto1[1] - punto2[1])**2)\n",
        "\n",
        "def encontrar_puntos_mas_cercanos_2D(lista):\n",
        "    # Ordenamos la lista por la coordenada x\n",
        "    lista_ordenada = sorted(lista, key=lambda punto: punto[0])\n",
        "\n",
        "    # Función recursiva para encontrar la distancia mínima\n",
        "    def distancia_minima_recursiva(inicio, fin):\n",
        "        if fin - inicio <= 3:\n",
        "            return min(distancia_euclidiana(lista_ordenada[i], lista_ordenada[j])\n",
        "                       for i in range(inicio, fin)\n",
        "                       for j in range(i + 1, fin + 1))\n",
        "\n",
        "        mitad = (inicio + fin) // 2\n",
        "        punto_medio = lista_ordenada[mitad]\n",
        "\n",
        "        dist_izq = distancia_minima_recursiva(inicio, mitad)\n",
        "        dist_der = distancia_minima_recursiva(mitad + 1, fin)\n",
        "\n",
        "        dist_min = min(dist_izq, dist_der)\n",
        "\n",
        "        # Consideramos los puntos cercanos al punto medio en ambas coordenadas\n",
        "        franja = [p for p in lista_ordenada[inicio:fin + 1]\n",
        "                  if abs(p[0] - punto_medio[0]) < dist_min]\n",
        "\n",
        "        # Ordenamos la franja por la coordenada y\n",
        "        franja_ordenada = sorted(franja, key=lambda punto: punto[1])\n",
        "\n",
        "        # Comparamos los puntos dentro de la franja\n",
        "        for i in range(len(franja_ordenada)):\n",
        "            for j in range(i + 1, min(i + 7, len(franja_ordenada))):\n",
        "                dist_puntos_franja = distancia_euclidiana(franja_ordenada[i], franja_ordenada[j])\n",
        "                dist_min = min(dist_min, dist_puntos_franja)\n",
        "\n",
        "        return dist_min\n",
        "\n",
        "    return distancia_minima_recursiva(0, len(lista_ordenada) - 1)\n",
        "\n",
        "# Llamamos a la función y mostramos el resultado\n",
        "distancia = encontrar_puntos_mas_cercanos_2D(LISTA_2D)\n",
        "print(f\"La distancia más corta entre dos puntos en 2D es: {distancia}\")"
      ],
      "metadata": {
        "colab": {
          "base_uri": "https://localhost:8080/",
          "height": 0
        },
        "id": "1MtP8vpDVZda",
        "outputId": "68d6ec98-4bd5-445a-e7f5-8612e202a851"
      },
      "execution_count": 3,
      "outputs": [
        {
          "output_type": "stream",
          "name": "stdout",
          "text": [
            "La distancia más corta entre dos puntos en 2D es: 1.0\n"
          ]
        }
      ]
    },
    {
      "cell_type": "markdown",
      "source": [
        "# Extender el algoritmo a 3D"
      ],
      "metadata": {
        "id": "9IHNS6DbVqbN"
      }
    },
    {
      "cell_type": "code",
      "source": [
        "# Generamos una lista de 1000 puntos aleatorios en 3D\n",
        "LISTA_3D = [(random.randrange(1, 1000), random.randrange(1, 1000), random.randrange(1, 1000)) for _ in range(1000)]\n",
        "\n",
        "def distancia_euclidiana_3D(punto1, punto2):\n",
        "    return math.sqrt((punto1[0] - punto2[0])**2 + (punto1[1] - punto2[1])**2 + (punto1[2] - punto2[2])**2)\n",
        "\n",
        "def encontrar_puntos_mas_cercanos_3D(lista):\n",
        "    # Ordenamos la lista por la coordenada x\n",
        "    lista_ordenada = sorted(lista, key=lambda punto: punto[0])\n",
        "\n",
        "    # Función recursiva para encontrar la distancia mínima\n",
        "    def distancia_minima_recursiva(inicio, fin):\n",
        "        if fin - inicio <= 3:\n",
        "            return min(distancia_euclidiana_3D(lista_ordenada[i], lista_ordenada[j])\n",
        "                       for i in range(inicio, fin)\n",
        "                       for j in range(i + 1, fin + 1))\n",
        "\n",
        "        mitad = (inicio + fin) // 2\n",
        "        punto_medio = lista_ordenada[mitad]\n",
        "\n",
        "        dist_izq = distancia_minima_recursiva(inicio, mitad)\n",
        "        dist_der = distancia_minima_recursiva(mitad + 1, fin)\n",
        "\n",
        "        dist_min = min(dist_izq, dist_der)\n",
        "\n",
        "        # Consideramos los puntos cercanos al punto medio en las tres coordenadas\n",
        "        franja = [p for p in lista_ordenada[inicio:fin + 1]\n",
        "                  if abs(p[0] - punto_medio[0]) < dist_min]\n",
        "\n",
        "        # Ordenamos la franja por la coordenada y\n",
        "        franja_ordenada = sorted(franja, key=lambda punto: punto[1])\n",
        "\n",
        "        # Comparamos los puntos dentro de la franja en 3D\n",
        "        for i in range(len(franja_ordenada)):\n",
        "            for j in range(i + 1, min(i + 7, len(franja_ordenada))):\n",
        "                dist_puntos_franja = distancia_euclidiana_3D(franja_ordenada[i], franja_ordenada[j])\n",
        "                dist_min = min(dist_min, dist_puntos_franja)\n",
        "\n",
        "        return dist_min\n",
        "\n",
        "    return distancia_minima_recursiva(0, len(lista_ordenada) - 1)\n",
        "\n",
        "# Llamamos a la función y mostramos el resultado\n",
        "distancia = encontrar_puntos_mas_cercanos_3D(LISTA_3D)\n",
        "print(f\"La distancia más corta entre dos puntos en 3D es: {distancia}\")"
      ],
      "metadata": {
        "colab": {
          "base_uri": "https://localhost:8080/",
          "height": 0
        },
        "id": "5BcbIqFbVtjc",
        "outputId": "ca794e14-b4c8-4473-d4f5-1e3c1634d74b"
      },
      "execution_count": 4,
      "outputs": [
        {
          "output_type": "stream",
          "name": "stdout",
          "text": [
            "La distancia más corta entre dos puntos en 3D es: 8.54400374531753\n"
          ]
        }
      ]
    }
  ]
}