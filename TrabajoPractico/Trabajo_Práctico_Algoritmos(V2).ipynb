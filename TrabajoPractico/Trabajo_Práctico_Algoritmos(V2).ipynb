{
 "cells": [
  {
   "cell_type": "markdown",
   "metadata": {
    "id": "hVbXYX-RfPWh"
   },
   "source": [
    "# Algoritmos de optimización - Trabajo Práctico<br>\n",
    "**Nombre y Apellidos**: **Guillermo Rios Gómez**  <br>\n",
    "**Url**: https://github.com/GuiRiGo88/03MIAR---Algoritmos-de-Optimizacion---2023/tree/main/TrabajoPractico<br>\n",
    "**Google Colab**: https://colab.research.google.com/github/GuiRiGo88/03MIAR---Algoritmos-de-Optimizacion---2023/blob/main/TrabajoPractico?hl=es <br>\n",
    "Problema:\n",
    ">1. **Sesiones de doblaje** <br>\n",
    "\n",
    "Se precisa coordinar el doblaje de una película. Los actores del doblaje deben coincidir en las tomas en las que sus personajes aparecen juntos en las diferentes tomas. Los actores de doblaje cobran todos la misma cantidad por cada día que deben desplazarse hasta el estudio de grabación independientemente del número de tomas que se graben. No es posible grabar más de 6 tomas por día. El objetivo es planificar las sesiones por día de manera que el gasto por los servicios de los actores de doblaje sea el menor posible.\n",
    "\n",
    "Los datos son:\n",
    "\n",
    "- **Número de actores**: 10\n",
    "- **Número de tomas**: 30\n",
    "- **Actores/Tomas**: https://bit.ly/36D8IuK\n",
    "\n",
    "- 1: indica que el actor participa en la toma\n",
    "- 0: en caso contrario contrario\n",
    "rario\n",
    "ntrario\n",
    "          "
   ]
  },
  {
   "cell_type": "code",
   "execution_count": 1,
   "metadata": {},
   "outputs": [],
   "source": [
    "# IMPORTAR LIBRERIA Y DECLARACIÓN DE VARIABLES\n",
    "import random\n",
    "import numpy as np\n",
    "import pandas as pd\n",
    "\n",
    "# Datos de entrada\n",
    "num_actores = 10\n",
    "num_tomas = 30\n",
    "costo_por_dia = 1  \n",
    "\n",
    "# Parámetros del algoritmo genético\n",
    "tam_poblacion = 100\n",
    "num_generaciones = 1000\n",
    "tasa_mutacion = 0.01"
   ]
  },
  {
   "cell_type": "markdown",
   "metadata": {
    "id": "67p_vszBposu"
   },
   "source": [
    "## ¿Como represento el espacio de soluciones?\n",
    "El espacio de soluciones se representa como una matriz binaria de tamaño `num_tomas` x `num_actores`. Cada entrada en la matriz es una variable binaria que indica si un actor específico está trabajando en una toma específica (1 si el actor está trabajando, 0 en caso contrario). Por lo tanto, el espacio de soluciones es el conjunto de todas las posibles matrices binarias de este tamaño.\n"
   ]
  },
  {
   "cell_type": "code",
   "execution_count": 2,
   "metadata": {},
   "outputs": [],
   "source": [
    "# Función para generar una solución aleatoria\n",
    "def generar_solucion():\n",
    "    solucion = [[0 for _ in range(num_tomas)] for _ in range(num_actores)]\n",
    "    for j in range(num_tomas):\n",
    "        actores_en_toma = random.sample(range(num_actores), random.randint(1, 6))\n",
    "        for i in actores_en_toma:\n",
    "            solucion[i][j] = 1\n",
    "    return solucion"
   ]
  },
  {
   "cell_type": "markdown",
   "metadata": {},
   "source": [
    "## ¿Cual es la función objetivo?\n",
    "La función objetivo es minimizar el costo total de las sesiones de doblaje. Este costo se calcula como la suma de los costos de cada actor por cada día que trabaja. Esto se implementa en la función `calcular_costo`, que toma una solución (es decir, una asignación de actores a tomas) y devuelve el costo total de esa solución."
   ]
  },
  {
   "cell_type": "code",
   "execution_count": 3,
   "metadata": {},
   "outputs": [],
   "source": [
    "# Función para calcular el costo de una solución\n",
    "def calcular_costo(solucion):\n",
    "    costo = 0\n",
    "    for i in range(num_actores):\n",
    "        for j in range(num_tomas):\n",
    "            if solucion[i][j] == 1:\n",
    "                costo += costo_por_dia\n",
    "    return costo"
   ]
  },
  {
   "cell_type": "markdown",
   "metadata": {
    "id": "Sbo9IqQtpaHZ"
   },
   "source": [
    "## ¿Como implemento las restricciones?\n",
    "Las restricciones del problema se implementan en la forma en que generamos y modificamos las soluciones. Por ejemplo, la restricción de que no es posible grabar más de 6 tomas por día se implementa en la función `generar_solucion`, que genera una solución aleatoria asegurándose de que no se seleccionen más de 6 actores para cada toma. Del mismo modo, la restricción de que cada toma debe ser grabada exactamente una vez se implementa en la función `mutar`, que modifica una solución existente cambiando la asignación de un actor a una toma, pero solo si este cambio no viola la restricción."
   ]
  },
  {
   "cell_type": "code",
   "execution_count": 4,
   "metadata": {},
   "outputs": [],
   "source": [
    "# Función para mutar una solución\n",
    "def mutar(solucion):\n",
    "    for i in range(num_actores):\n",
    "        for j in range(num_tomas):\n",
    "            if random.random() < tasa_mutacion:\n",
    "                solucion[i][j] = 1 - solucion[i][j]\n",
    "    return solucion\n"
   ]
  },
  {
   "cell_type": "code",
   "execution_count": 5,
   "metadata": {
    "id": "AiskKkzZfy4e"
   },
   "outputs": [
    {
     "name": "stdout",
     "output_type": "stream",
     "text": [
      "               0  1  2   3  4  5  6  7   8  9  Suma_Filas\n",
      "0              0  1  0   0  0  0  0  1   1  0           3\n",
      "1              0  0  0   0  0  1  0  1   0  0           2\n",
      "2              0  1  0   0  0  0  1  0   0  0           2\n",
      "3              0  0  0   1  0  0  0  0   1  1           3\n",
      "4              0  0  0   0  1  0  0  0   1  0           2\n",
      "5              0  0  0   1  0  0  0  0   0  0           1\n",
      "6              0  0  1   0  0  1  1  0   0  1           4\n",
      "7              0  0  1   0  0  0  0  0   0  0           1\n",
      "8              1  0  1   0  0  0  0  1   1  1           5\n",
      "9              0  1  0   0  0  1  0  0   0  0           2\n",
      "10             1  1  0   0  1  0  0  0   1  0           4\n",
      "11             0  0  0   1  0  1  1  0   0  0           3\n",
      "12             1  1  0   1  1  0  1  0   1  0           6\n",
      "13             0  1  1   1  0  1  0  1   0  0           5\n",
      "14             0  0  0   0  0  1  0  0   0  0           1\n",
      "15             0  1  0   1  0  0  0  0   0  1           3\n",
      "16             0  0  1   0  0  0  0  0   0  0           1\n",
      "17             1  0  0   0  1  1  0  0   1  1           5\n",
      "18             1  0  0   1  0  0  1  0   1  1           5\n",
      "19             0  0  0   0  1  0  0  0   0  0           1\n",
      "20             0  1  1   1  0  1  0  0   0  0           4\n",
      "21             0  0  0   0  0  0  1  0   1  0           2\n",
      "22             1  0  0   1  0  0  0  0   0  0           2\n",
      "23             1  0  0   0  0  0  0  0   0  0           1\n",
      "24             0  0  0   1  0  0  0  0   0  1           2\n",
      "25             0  0  0   0  0  0  1  0   0  0           1\n",
      "26             0  1  1   0  0  0  0  1   0  0           3\n",
      "27             0  0  0   0  0  0  1  0   0  0           1\n",
      "28             0  0  0   0  0  0  0  1   1  0           2\n",
      "29             0  0  0   0  0  0  1  1   0  0           2\n",
      "Suma_Columnas  7  9  7  10  5  8  9  7  10  7          79\n"
     ]
    }
   ],
   "source": [
    "########CUERPO DE CODIGO########\n",
    "\n",
    "# Función para cruzar dos soluciones\n",
    "def cruzar(solucion1, solucion2):\n",
    "    corte = random.randint(0, num_tomas)\n",
    "    hijo1 = solucion1[:corte] + solucion2[corte:]\n",
    "    hijo2 = solucion2[:corte] + solucion1[corte:]\n",
    "    return hijo1, hijo2\n",
    "\n",
    "# Inicializar la población\n",
    "poblacion = [generar_solucion() for _ in range(tam_poblacion)]\n",
    "\n",
    "# Bucle principal del algoritmo genético\n",
    "for _ in range(num_generaciones):\n",
    "    # Calcular el costo de cada solución en la población\n",
    "    costos = [calcular_costo(solucion) for solucion in poblacion]\n",
    "    # Seleccionar las mejores soluciones para la próxima generación\n",
    "    poblacion = [solucion for _, solucion in sorted(zip(costos, poblacion))]\n",
    "    # Cruzar y mutar las soluciones para generar la próxima generación\n",
    "    while len(poblacion) < tam_poblacion:\n",
    "        if random.random() < 0.5:\n",
    "            poblacion.append(mutar(random.choice(poblacion)))\n",
    "        else:\n",
    "            poblacion.extend(cruzar(random.choice(poblacion), random.choice(poblacion)))\n",
    "\n",
    "# Imprimir la mejor solución encontrada\n",
    "mejor_solucion = min(poblacion, key=calcular_costo)\n",
    "mejor_solucion_transpuesta = list(map(list, zip(*mejor_solucion)))\n",
    "# Convertir la mejor solución a un DataFrame de pandas\n",
    "df = pd.DataFrame(mejor_solucion_transpuesta)\n",
    "\n",
    "# Calcular la suma de cada fila y cada columna\n",
    "df['Suma_Filas'] = df.sum(axis=1)\n",
    "df.loc['Suma_Columnas'] = df.sum()\n",
    "\n",
    "# Imprimir el DataFrame resultante\n",
    "print(df)"
   ]
  },
  {
   "cell_type": "markdown",
   "metadata": {
    "id": "HZz52wOppp-U"
   },
   "source": [
    "## ¿Que complejidad tiene el problema?. Orden de complejidad y Contabilizar el espacio de soluciones\n",
    "\n",
    "En este caso, si denotamos el número de actores por $A$, el número de tomas por $T$, el tamaño de la población por $P$ y el número de generaciones por $G$, entonces la complejidad temporal del algoritmo es aproximadamente $O(A*T*P*G)$. Esto se debe a que para cada generación, el algoritmo debe calcular la función de fitness (que tiene una complejidad de $O(A*T)$) para cada solución en la población.\n"
   ]
  },
  {
   "cell_type": "code",
   "execution_count": 6,
   "metadata": {},
   "outputs": [
    {
     "name": "stdout",
     "output_type": "stream",
     "text": [
      "Costo de la mejor solución: 79\n"
     ]
    }
   ],
   "source": [
    "print(\"Costo de la mejor solución:\", calcular_costo(mejor_solucion))"
   ]
  },
  {
   "cell_type": "markdown",
   "metadata": {
    "id": "ixEJUwH_pv7M"
   },
   "source": [
    "## ¿Que técnica utilizo? ¿Por qué?"
   ]
  },
  {
   "cell_type": "markdown",
   "metadata": {
    "id": "ZdKPjB9gp2BA"
   },
   "source": [
    "Utilicé un algoritmo genético para resolver este problema. Los algoritmos genéticos son técnicas de optimización y búsqueda inspiradas en la teoría de la evolución natural. Son particularmente útiles para problemas de optimización combinatoria como este, donde el espacio de soluciones es grande y las soluciones pueden ser fácilmente codificadas como una secuencia de decisiones binarias.\n",
    "\n",
    "Elegí un algoritmo genético por varias razones:\n",
    "\n",
    "1. **Capacidad para manejar grandes espacios de soluciones**: Los algoritmos genéticos son capaces de explorar eficientemente grandes espacios de soluciones. En este problema, tenemos varias instancias (tomas) y atributos (actores), lo que significa que el número total de posibles asignaciones de actores a tomas (es decir, el tamaño del espacio de soluciones) es grande.\n",
    "2. **Flexibilidad**:  Los algoritmos genéticos son altamente flexibles y se pueden adaptar fácilmente a diferentes tipos de problemas de optimización. En este caso, podemos representar una solución como una matriz binaria y definir una función de fitness (en este caso, la función `calcular_costo`) que calcula el costo total de una solución.\n",
    "\n",
    "3. **Robustez**: A diferencia de otros métodos de optimización que pueden quedar atrapados en óptimos locales, los algoritmos genéticos tienen una buena capacidad para evitar óptimos locales debido a su enfoque estocástico y poblacional.\n",
    "4. **Paralelización**: Los algoritmos genéticos son inherentemente\n"
   ]
  }
 ],
 "metadata": {
  "colab": {
   "provenance": []
  },
  "kernelspec": {
   "display_name": "Python 3 (ipykernel)",
   "language": "python",
   "name": "python3"
  },
  "language_info": {
   "codemirror_mode": {
    "name": "ipython",
    "version": 3
   },
   "file_extension": ".py",
   "mimetype": "text/x-python",
   "name": "python",
   "nbconvert_exporter": "python",
   "pygments_lexer": "ipython3",
   "version": "3.11.2"
  }
 },
 "nbformat": 4,
 "nbformat_minor": 4
}
