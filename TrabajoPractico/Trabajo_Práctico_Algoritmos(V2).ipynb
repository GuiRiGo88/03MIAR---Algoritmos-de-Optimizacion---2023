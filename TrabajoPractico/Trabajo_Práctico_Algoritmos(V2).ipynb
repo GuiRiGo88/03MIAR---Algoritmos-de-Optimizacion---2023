{
 "cells": [
  {
   "cell_type": "markdown",
   "metadata": {
    "id": "hVbXYX-RfPWh"
   },
   "source": [
    "# Algoritmos de optimización - Trabajo Práctico<br>\n",
    "**Nombre y Apellidos**: **Guillermo Rios Gómez**  <br>\n",
    "**Url**: https://github.com/GuiRiGo88/03MIAR---Algoritmos-de-Optimizacion---2023/tree/main/TrabajoPractico<br>\n",
    "**Google Colab**: https://colab.research.google.com/github/GuiRiGo88/03MIAR---Algoritmos-de-Optimizacion---2023/blob/main/TrabajoPractico?hl=es <br>\n",
    "Problema:\n",
    ">1. **Sesiones de doblaje** <br>\n",
    "\n",
    "Se precisa coordinar el doblaje de una película. Los actores del doblaje deben coincidir en las tomas en las que sus personajes aparecen juntos en las diferentes tomas. Los actores de doblaje cobran todos la misma cantidad por cada día que deben desplazarse hasta el estudio de grabación independientemente del número de tomas que se graben. No es posible grabar más de 6 tomas por día. El objetivo es planificar las sesiones por día de manera que el gasto por los servicios de los actores de doblaje sea el menor posible.\n",
    "\n",
    "Los datos son:\n",
    "\n",
    "- **Número de actores**: 10\n",
    "- **Número de tomas**: 30\n",
    "- **Actores/Tomas**: https://bit.ly/36D8IuK\n",
    "\n",
    "- 1: indica que el actor participa en la toma\n",
    "- 0: en caso contrario                                       "
   ]
  },
  {
   "cell_type": "code",
   "execution_count": 1,
   "metadata": {
    "tags": []
   },
   "outputs": [],
   "source": [
    "# IMPORTAR LIBRERIA Y DECLARACIÓN DE VARIABLES\n",
    "import numpy as np\n",
    "\n",
    "# Datos\n",
    "num_actores = 10\n",
    "num_tomas = 30\n",
    "actores_tomas = [\n",
    "    [1,1,1,1,1,0,0,0,0,0],\n",
    "    [0,0,1,1,1,0,0,0,0,0],\n",
    "    [0,1,0,0,1,0,1,0,0,0],\n",
    "    [1,1,0,0,0,0,1,1,0,0],\n",
    "    [0,1,0,1,0,0,0,1,0,0],\n",
    "    [1,1,0,1,1,0,0,0,0,0],\n",
    "    [1,1,0,1,1,0,0,0,0,0],\n",
    "    [1,1,0,0,0,1,0,0,0,0],\n",
    "    [1,1,0,1,0,0,0,0,0,0],\n",
    "    [1,1,0,0,0,1,0,0,1,0],\n",
    "    [1,1,1,0,1,0,0,1,0,0],\n",
    "    [1,1,1,1,0,1,0,0,0,0],\n",
    "    [1,0,0,1,1,0,0,0,0,0],\n",
    "    [1,0,1,0,0,1,0,0,0,0],\n",
    "    [1,1,0,0,0,0,1,0,0,0],\n",
    "    [0,0,0,1,0,0,0,0,0,1],\n",
    "    [1,0,1,0,0,0,0,0,0,0],\n",
    "    [0,0,1,0,0,1,0,0,0,0],\n",
    "    [1,0,1,0,0,0,0,0,0,0],\n",
    "    [1,0,1,1,1,0,0,0,0,0],\n",
    "    [0,0,0,0,0,1,0,1,0,0],\n",
    "    [1,1,1,1,0,0,0,0,0,0],\n",
    "    [1,0,1,0,0,0,0,0,0,0],\n",
    "    [0,0,1,0,0,1,0,0,0,0],\n",
    "    [1,1,0,1,0,0,0,0,0,1],\n",
    "    [1,0,1,0,1,0,0,0,1,0],\n",
    "    [0,0,0,1,1,0,0,0,0,0],\n",
    "    [1,0,0,1,0,0,0,0,0,0],\n",
    "    [1,0,0,0,1,1,0,0,0,0],\n",
    "    [1,0,0,1,0,0,0,0,0,0]\n",
    "]"
   ]
  },
  {
   "cell_type": "markdown",
   "metadata": {
    "id": "Sbo9IqQtpaHZ"
   },
   "source": [
    "#Modelo\n",
    "- ¿Como represento el espacio de soluciones?\n",
    "- ¿Cual es la función objetivo?\n",
    "- ¿Como implemento las restricciones?"
   ]
  },
  {
   "cell_type": "markdown",
   "metadata": {},
   "source": [
    "## ¿Como represento el espacio de soluciones?\n",
    "\n",
    "Para diseñar el espacio de soluciones \\(𝑆\\), donde cada elemento \\(𝑠\\) en \\(𝑆\\) representa una sesión, y cada sesión \\(𝑠\\) contiene un conjunto de tomas \\(𝑇𝑠\\), se sigue la siguiente estructura:\n",
    "\n",
    "\\(𝑆 = [𝑠1, 𝑠2, 𝑠3, ..., 𝑠𝑛]\\) \n",
    "\n",
    "Donde:\n",
    "- \\(𝑛\\) es el número total de sesiones planificadas.\n",
    "- Cada \\(𝑠𝑖\\) se define como una tupla que contiene dos elementos:\n",
    "- La lista de índices de tomas seleccionadas.\n",
    "- La lista de actores asociados con esas tomas.\n",
    "\n",
    "Por lo tanto, cada \\(𝑠𝑖\\) se representa de la siguiente manera:\n",
    "\n",
    "\\(𝑠𝑖 = ([𝑡1, 𝑡2, 𝑡3, ..., 𝑡𝑚], [𝑎1, 𝑎2, 𝑎3, ..., 𝑎𝑝])\\)\n",
    "\n",
    "Donde:\n",
    "- \\([𝑡1, 𝑡2, 𝑡3, ..., 𝑡𝑚]\\) representa las tomas seleccionadas para la sesión \\(𝑖\\).\n",
    "- \\([𝑎1, 𝑎2, 𝑎3, ..., 𝑎𝑝]\\) representa los actores asociados con esas tomas.\n",
    "\n"
   ]
  },
  {
   "cell_type": "markdown",
   "metadata": {
    "id": "67p_vszBposu"
   },
   "source": [
    "## ¿Cual es la función objetivo?\n",
    "La función objetivo en este caso sería minimizar el costo total de todas las sesiones planificadas, representado por \\( f(x) \\).\n",
    "\n",
    "$minimizar ( f(x))$\n",
    "\n",
    "\n",
    "\n"
   ]
  },
  {
   "cell_type": "code",
   "execution_count": 2,
   "metadata": {
    "id": "AiskKkzZfy4e",
    "tags": []
   },
   "outputs": [],
   "source": [
    "# Función para calcular el costo a minimizar\n",
    "def costo_total(sesiones_planificadas):\n",
    "    return sum(costo_total_sesion(sesion) for sesion in sesiones_planificadas)\n",
    "\n",
    "# Claculo de coste de la solución\n",
    "def costo_total_sesion(sesion):\n",
    "    actores_en_sesion = []\n",
    "    for toma_index in sesion:  # Itera sobre los índices de las tomas\n",
    "        toma = actores_tomas[toma_index]  # Obtiene la toma correspondiente a ese índice\n",
    "        for actor in range(num_actores):\n",
    "            if toma[actor] == 1 and actor not in actores_en_sesion:\n",
    "                actores_en_sesion.append(actor)\n",
    "    return len(actores_en_sesion)"
   ]
  },
  {
   "cell_type": "markdown",
   "metadata": {},
   "source": [
    "## ¿Como implemento las restricciones?\n",
    "\n",
    "- **Restricción de disponibilidad de tomas:** En la función `seleccionar_mejor_toma()`, se asegura de que solo se seleccionen tomas que estén disponibles (no asignadas previamente a otra sesión), ya que se elimina la toma de la lista tomas_disponibles después de asignarla a una sesión.\n",
    "\n",
    "- **Restricción de actores únicos por sesión:** En la función `costo_total_sesion()`, se garantiza que solo se cuenten los actores únicos presentes en una sesión. Esto se logra al mantener una lista de los actores que ya han sido asignados a la sesión y verificar si un actor aún no está en esa lista antes de agregarlo.\n",
    "\n",
    "- **Restricción de cantidad máxima de tomas por sesión:** En la función `planificar_sesiones()`, se asegura de que cada sesión contenga como máximo 6 tomas. Esto se logra con un bucle interno en el que se agrega una toma a la sesión actual solo si la longitud de la sesión actual es menor que 6.\n"
   ]
  },
  {
   "cell_type": "code",
   "execution_count": 3,
   "metadata": {
    "tags": []
   },
   "outputs": [],
   "source": [
    "def seleccionar_mejor_toma(sesiones_asignadas, tomas_disponibles):\n",
    "    mejor_toma = None\n",
    "    mejor_costo = float('inf')\n",
    "    for toma in tomas_disponibles:\n",
    "        costo = costo_total_sesion(sesiones_asignadas + [toma])\n",
    "        if costo < mejor_costo:\n",
    "            mejor_costo = costo\n",
    "            mejor_toma = toma\n",
    "    return mejor_toma\n",
    "\n",
    "def planificar_sesiones():\n",
    "    sesiones = []\n",
    "    actores_por_sesion = []  # Lista para almacenar los actores por sesión\n",
    "    tomas_disponibles = list(range(num_tomas))\n",
    "\n",
    "    while tomas_disponibles:\n",
    "        sesion_actual = []\n",
    "        actores_en_sesion = set()  # Conjunto para almacenar los actores únicos en la sesión actual\n",
    "        while len(sesion_actual) < 6 and tomas_disponibles:\n",
    "            mejor_toma = seleccionar_mejor_toma(sesion_actual, tomas_disponibles)\n",
    "            sesion_actual.append(mejor_toma)\n",
    "            tomas_disponibles.remove(mejor_toma)\n",
    "            # Agregar los actores de la toma actual a la lista de actores en la sesión actual\n",
    "            for actor, presente in enumerate(actores_tomas[mejor_toma]):\n",
    "                if presente == 1:\n",
    "                    actores_en_sesion.add(actor)\n",
    "        sesiones.append(sesion_actual)\n",
    "        actores_por_sesion.append(list(actores_en_sesion))  # Convertir el conjunto a lista y agregarlo\n",
    "    return sesiones, actores_por_sesion  # Devolver las sesiones y la lista de actores por sesión"
   ]
  },
  {
   "cell_type": "markdown",
   "metadata": {
    "id": "HZz52wOppp-U"
   },
   "source": [
    "## ¿Que complejidad tiene el problema?. Orden de complejidad y Contabilizar el espacio de soluciones\n",
    "\n",
    "Dado que el algoritmo completo implica ejecutar `planificar_sesiones()` y luego calcular el costo total, la complejidad total del algoritmo estaría dominada por la complejidad de `planificar_sesiones()`, que es aproximadamente $(O(t \\cdot m \\cdot n))$, donde $(t)$ es el número total de tomas disponibles. \n",
    "\n",
    "Donde:\n",
    "- $(t)$: Es el número total de tomas disponibles.\n",
    "- $(m)$: Es el número máximo de tomas por sesión.\n",
    "- $(n)$: Es el número total de sesiones planificadas.\n"
   ]
  },
  {
   "cell_type": "markdown",
   "metadata": {
    "id": "ixEJUwH_pv7M"
   },
   "source": [
    "## ¿Que técnica utilizo? ¿Por qué?\n",
    "\n",
    "### Técnica Utilizada: Optimización Voraz\n",
    "\n",
    "#### Razones de Utilización:\n",
    "\n",
    "- **Selección Local Óptima**: En cada paso del algoritmo, se toma una decisión localmente óptima, es decir, se selecciona la toma que proporciona el menor costo adicional para la sesión actual. Esta estrategia se alinea con la naturaleza de los algoritmos voraces, donde las decisiones se toman considerando solo la información disponible en el momento.\n",
    "\n",
    "- **Decisiones Basadas en Información Local**: El algoritmo toma decisiones basadas únicamente en la información local, sin considerar el impacto global en todas las sesiones futuras. Selecciona la mejor toma disponible en cada paso, sin revisar decisiones anteriores. Este enfoque es característico de los algoritmos voraces.\n",
    "\n",
    "- **Estructura de los Datos y Naturaleza del Problema**: Dado que el problema implica minimizar el costo total de las sesiones y las tomas tienen diferentes costos y actores asociados, una estrategia voraz es apropiada. La estructura del problema permite abordarlo de manera efectiva seleccionando tomas de manera voraz para cada sesión sin necesidad de explorar todas las combinaciones posibles.\n",
    "\n",
    "- **Eficiencia de Tiempo y Espacio**: Aunque la búsqueda exhaustiva garantizaría la solución óptima, podría ser prohibitivamente costosa en términos de tiempo y recursos computacionales debido al tamaño del espacio de búsqueda. En cambio, la estrategia voraz ofrece una solución razonablemente buena en un tiempo de ejecución más eficiente.\n"
   ]
  },
  {
   "cell_type": "code",
   "execution_count": 5,
   "metadata": {
    "id": "ZdKPjB9gp2BA",
    "tags": []
   },
   "outputs": [
    {
     "name": "stdout",
     "output_type": "stream",
     "text": [
      "Sesión 1: [15, 26, 1, 12, 16, 18], Actores: [0, 2, 3, 4, 9], Costo Total: 5\n",
      "Sesión 2: [17, 23, 13, 22, 7, 8], Actores: [0, 1, 2, 3, 5], Costo Total: 5\n",
      "Sesión 3: [20, 4, 27, 29, 3, 14], Actores: [0, 1, 3, 5, 6, 7], Costo Total: 6\n",
      "Sesión 4: [2, 5, 6, 0, 19, 21], Actores: [0, 1, 2, 3, 4, 6], Costo Total: 6\n",
      "Sesión 5: [28, 9, 25, 10, 11, 24], Actores: [0, 1, 2, 3, 4, 5, 7, 8, 9], Costo Total: 9\n",
      "\n",
      "Coste objetivo a Minimizar: 94\n",
      "Costo final Minimizado: 31\n"
     ]
    }
   ],
   "source": [
    "def imprimir_planificacion_con_costo_total():\n",
    "    sesiones_planificadas, actores_por_sesion = planificar_sesiones()  # Obtener sesiones y actores por sesión\n",
    "    imprimir_planificacion(sesiones_planificadas, actores_por_sesion)\n",
    "    print(f\"\\nCoste objetivo a Minimizar: {sum(sum(fila) for fila in actores_tomas)}\")\n",
    "    print(f\"Costo final Minimizado: {costo_total(sesiones_planificadas)}\")\n",
    "\n",
    "\n",
    "def imprimir_planificacion(sesiones, actores_por_sesion):\n",
    "    for i, (sesion, actores) in enumerate(zip(sesiones, actores_por_sesion), start=1):\n",
    "        print(f\"Sesión {i}: {sesion}, Actores: {actores}, Costo Total: {costo_total_sesion(sesion)}\")\n",
    "\n",
    "\n",
    "# Ejecutar el planificador y mostrar resultados\n",
    "sesiones_planificadas = planificar_sesiones()\n",
    "imprimir_planificacion_con_costo_total()"
   ]
  },
  {
   "cell_type": "code",
   "execution_count": null,
   "metadata": {},
   "outputs": [],
   "source": []
  }
 ],
 "metadata": {
  "colab": {
   "provenance": []
  },
  "kernelspec": {
   "display_name": "Python 3 (ipykernel)",
   "language": "python",
   "name": "python3"
  },
  "language_info": {
   "codemirror_mode": {
    "name": "ipython",
    "version": 3
   },
   "file_extension": ".py",
   "mimetype": "text/x-python",
   "name": "python",
   "nbconvert_exporter": "python",
   "pygments_lexer": "ipython3",
   "version": "3.11.2"
  }
 },
 "nbformat": 4,
 "nbformat_minor": 4
}
